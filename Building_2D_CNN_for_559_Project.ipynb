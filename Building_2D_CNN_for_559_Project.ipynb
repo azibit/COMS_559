{
  "nbformat": 4,
  "nbformat_minor": 0,
  "metadata": {
    "colab": {
      "name": "Building 2D CNN for 559 Project.ipynb",
      "provenance": [],
      "collapsed_sections": [],
      "authorship_tag": "ABX9TyNlCK7z78AV8KAzlyFs9e3W",
      "include_colab_link": true
    },
    "kernelspec": {
      "name": "python3",
      "display_name": "Python 3"
    }
  },
  "cells": [
    {
      "cell_type": "markdown",
      "metadata": {
        "id": "view-in-github",
        "colab_type": "text"
      },
      "source": [
        "<a href=\"https://colab.research.google.com/github/azibit/COMS_559/blob/master/Building_2D_CNN_for_559_Project.ipynb\" target=\"_parent\"><img src=\"https://colab.research.google.com/assets/colab-badge.svg\" alt=\"Open In Colab\"/></a>"
      ]
    },
    {
      "cell_type": "markdown",
      "metadata": {
        "id": "ALSmIEWcdiwm",
        "colab_type": "text"
      },
      "source": [
        "**Importing Necessary Libraries**"
      ]
    },
    {
      "cell_type": "code",
      "metadata": {
        "id": "txbRwi9WdM9b",
        "colab_type": "code",
        "colab": {}
      },
      "source": [
        "import pandas as pd\n",
        "import numpy as np\n",
        "from sklearn.preprocessing import LabelEncoder\n",
        "\n",
        "import os\n",
        "import glob\n",
        "np.random.seed(1111)\n",
        "import tensorflow as tf\n",
        "\n",
        "import pandas as pd\n",
        "from sklearn import preprocessing"
      ],
      "execution_count": 0,
      "outputs": []
    },
    {
      "cell_type": "markdown",
      "metadata": {
        "id": "Xy3sDJNYdpfE",
        "colab_type": "text"
      },
      "source": [
        "**Download Files From AWS**"
      ]
    },
    {
      "cell_type": "code",
      "metadata": {
        "id": "4EOfeXhWdg-_",
        "colab_type": "code",
        "outputId": "d3435cfd-6a72-41d7-f35e-e7fea4ac3e79",
        "colab": {
          "base_uri": "https://localhost:8080/",
          "height": 208
        }
      },
      "source": [
        "!wget -c \"https://aidris559lab4.s3.amazonaws.com/clean_virus_dataset.zip\""
      ],
      "execution_count": 0,
      "outputs": [
        {
          "output_type": "stream",
          "text": [
            "--2020-05-09 15:42:09--  https://aidris559lab4.s3.amazonaws.com/clean_virus_dataset.zip\n",
            "Resolving aidris559lab4.s3.amazonaws.com (aidris559lab4.s3.amazonaws.com)... 52.216.238.75\n",
            "Connecting to aidris559lab4.s3.amazonaws.com (aidris559lab4.s3.amazonaws.com)|52.216.238.75|:443... connected.\n",
            "HTTP request sent, awaiting response... 200 OK\n",
            "Length: 22055566 (21M) [application/zip]\n",
            "Saving to: ‘clean_virus_dataset.zip’\n",
            "\n",
            "clean_virus_dataset 100%[===================>]  21.03M  8.88MB/s    in 2.4s    \n",
            "\n",
            "2020-05-09 15:42:13 (8.88 MB/s) - ‘clean_virus_dataset.zip’ saved [22055566/22055566]\n",
            "\n"
          ],
          "name": "stdout"
        }
      ]
    },
    {
      "cell_type": "code",
      "metadata": {
        "id": "QAI2GOp2d0xg",
        "colab_type": "code",
        "colab": {}
      },
      "source": [
        "!unzip clean_virus_dataset.zip"
      ],
      "execution_count": 0,
      "outputs": []
    },
    {
      "cell_type": "code",
      "metadata": {
        "id": "4HGU8aWJ6Yvi",
        "colab_type": "code",
        "colab": {}
      },
      "source": [
        "!mkdir data_store"
      ],
      "execution_count": 0,
      "outputs": []
    },
    {
      "cell_type": "code",
      "metadata": {
        "id": "9zdYKwJJ6578",
        "colab_type": "code",
        "outputId": "3eedc5b4-b9b4-4a16-b264-19193edaafd7",
        "colab": {
          "base_uri": "https://localhost:8080/",
          "height": 34
        }
      },
      "source": [
        "cd data_store/"
      ],
      "execution_count": 0,
      "outputs": [
        {
          "output_type": "stream",
          "text": [
            "/content/data_store\n"
          ],
          "name": "stdout"
        }
      ]
    },
    {
      "cell_type": "code",
      "metadata": {
        "id": "6nYsSy0jd4tg",
        "colab_type": "code",
        "outputId": "9ee8bb0f-59e4-4d72-c10d-d6b01c0ce357",
        "colab": {
          "base_uri": "https://localhost:8080/",
          "height": 225
        }
      },
      "source": [
        "files = glob.glob(\"../data/*\")\n",
        "print(\"Total number of files: \", len(files))\n",
        "print(\"Showing first 10 files...\")\n",
        "files[:10]"
      ],
      "execution_count": 0,
      "outputs": [
        {
          "output_type": "stream",
          "text": [
            "Total number of files:  3576\n",
            "Showing first 10 files...\n"
          ],
          "name": "stdout"
        },
        {
          "output_type": "execute_result",
          "data": {
            "text/plain": [
              "['../data/clean_968.csv',\n",
              " '../data/clean_1688.csv',\n",
              " '../data/virus_1417.csv',\n",
              " '../data/clean_1129.csv',\n",
              " '../data/virus_1103.csv',\n",
              " '../data/clean_574.csv',\n",
              " '../data/clean_917.csv',\n",
              " '../data/virus_1031.csv',\n",
              " '../data/virus_560.csv',\n",
              " '../data/virus_1028.csv']"
            ]
          },
          "metadata": {
            "tags": []
          },
          "execution_count": 6
        }
      ]
    },
    {
      "cell_type": "code",
      "metadata": {
        "id": "aa-e4RBcGU1l",
        "colab_type": "code",
        "colab": {}
      },
      "source": [
        "file_headers = [\"USER\", \"PID\", \"%CPU\", \"%MEM\" , \"VSZ\" ,  \"RSS\",  \"TTY\", \"STAT\", \"START\", \"TIME\", \"COMMAND\"]\n",
        "# columns_to_numericalize = ['USER', 'TTY', 'STAT', 'START', 'TIME', 'COMMAND'] \n",
        "\n",
        "columns_to_numericalize = [\"USER\", \"PID\", \"%CPU\", \"%MEM\" , \"VSZ\" ,  \"RSS\",  \"TTY\", \"STAT\", \"START\", \"TIME\", \"COMMAND\"]"
      ],
      "execution_count": 0,
      "outputs": []
    },
    {
      "cell_type": "code",
      "metadata": {
        "id": "XGOGReK_FQ7H",
        "colab_type": "code",
        "colab": {}
      },
      "source": [
        "def normalize(df):\n",
        "  x = df.values #returns a numpy array\n",
        "  min_max_scaler = preprocessing.MinMaxScaler()\n",
        "  x_scaled = min_max_scaler.fit_transform(x)\n",
        "  df = pd.DataFrame(x_scaled, columns=file_headers)\n",
        "\n",
        "  return df"
      ],
      "execution_count": 0,
      "outputs": []
    },
    {
      "cell_type": "markdown",
      "metadata": {
        "id": "uj9xX6LJfQvK",
        "colab_type": "text"
      },
      "source": [
        "**Numericalize the Inputs**\n",
        "\n",
        "Some of the data inputs are in form of Strings. Since Machine Learning input are numerical values, we transform our columns that are Strings into Numerical Values"
      ]
    },
    {
      "cell_type": "code",
      "metadata": {
        "id": "KV3OTooKePUl",
        "colab_type": "code",
        "colab": {}
      },
      "source": [
        "def numericalize_csv_files(new_file_name):\n",
        "\n",
        "  file_list = glob.glob(\"../\" + new_file_name + \"/*\") #Determine the file location\n",
        "\n",
        "  for file in file_list:\n",
        "\n",
        "    # creating instance of labelencoder\n",
        "    labelencoder = LabelEncoder()\n",
        "\n",
        "    df = pd.read_csv(file, names=file_headers,  delim_whitespace=True) #Read the file as Dataframe\n",
        "    df = df.iloc[1:] #Delete the first row because it reads the heading twice\n",
        "    \n",
        "    #Change specific columns to Numeric Data\n",
        "    for item in columns_to_numericalize:\n",
        "      df[item] = labelencoder.fit_transform(df[item])\n",
        "\n",
        "\n",
        "    df = normalize(df)\n",
        "    df.to_csv(file)  #Save and Replace File as CSV"
      ],
      "execution_count": 0,
      "outputs": []
    },
    {
      "cell_type": "code",
      "metadata": {
        "id": "aFBjwZeUhYUl",
        "colab_type": "code",
        "colab": {}
      },
      "source": [
        "numericalize_csv_files(\"data\")"
      ],
      "execution_count": 0,
      "outputs": []
    },
    {
      "cell_type": "code",
      "metadata": {
        "id": "WKc551FtrK6T",
        "colab_type": "code",
        "colab": {}
      },
      "source": [
        "def find_max_array_size(file_list):\n",
        "  max_length = 0\n",
        "\n",
        "  for file in file_list:\n",
        "    temp = pd.read_csv(open(file,'r'))\n",
        "\n",
        "    if temp.shape[0] > max_length:\n",
        "      max_length = temp.shape[0]\n",
        "\n",
        "  return max_length"
      ],
      "execution_count": 0,
      "outputs": []
    },
    {
      "cell_type": "code",
      "metadata": {
        "id": "mPGZ3hmplzxO",
        "colab_type": "code",
        "colab": {}
      },
      "source": [
        "files = glob.glob(\"../data/*\")"
      ],
      "execution_count": 0,
      "outputs": []
    },
    {
      "cell_type": "code",
      "metadata": {
        "id": "tSt-tLdPzZgK",
        "colab_type": "code",
        "colab": {}
      },
      "source": [
        "FILE_WIDTH = 11\n",
        "NUMBER_OF_CHANNELS = 1"
      ],
      "execution_count": 0,
      "outputs": []
    },
    {
      "cell_type": "code",
      "metadata": {
        "id": "xUu0bePYrxsY",
        "colab_type": "code",
        "colab": {}
      },
      "source": [
        "MAX_FILE_HEIGHT = find_max_array_size(files)"
      ],
      "execution_count": 0,
      "outputs": []
    },
    {
      "cell_type": "code",
      "metadata": {
        "id": "XsnECiNLaRC_",
        "colab_type": "code",
        "outputId": "83bf9517-d60e-475d-a0e0-ec3c1a1b01d9",
        "colab": {
          "base_uri": "https://localhost:8080/",
          "height": 424
        }
      },
      "source": [
        "pd.read_csv(files[0])"
      ],
      "execution_count": 0,
      "outputs": [
        {
          "output_type": "execute_result",
          "data": {
            "text/html": [
              "<div>\n",
              "<style scoped>\n",
              "    .dataframe tbody tr th:only-of-type {\n",
              "        vertical-align: middle;\n",
              "    }\n",
              "\n",
              "    .dataframe tbody tr th {\n",
              "        vertical-align: top;\n",
              "    }\n",
              "\n",
              "    .dataframe thead th {\n",
              "        text-align: right;\n",
              "    }\n",
              "</style>\n",
              "<table border=\"1\" class=\"dataframe\">\n",
              "  <thead>\n",
              "    <tr style=\"text-align: right;\">\n",
              "      <th></th>\n",
              "      <th>Unnamed: 0</th>\n",
              "      <th>USER</th>\n",
              "      <th>PID</th>\n",
              "      <th>%CPU</th>\n",
              "      <th>%MEM</th>\n",
              "      <th>VSZ</th>\n",
              "      <th>RSS</th>\n",
              "      <th>TTY</th>\n",
              "      <th>STAT</th>\n",
              "      <th>START</th>\n",
              "      <th>TIME</th>\n",
              "      <th>COMMAND</th>\n",
              "    </tr>\n",
              "  </thead>\n",
              "  <tbody>\n",
              "    <tr>\n",
              "      <th>0</th>\n",
              "      <td>0</td>\n",
              "      <td>0.615385</td>\n",
              "      <td>0.000000</td>\n",
              "      <td>0.0</td>\n",
              "      <td>0.090909</td>\n",
              "      <td>0.135135</td>\n",
              "      <td>0.987261</td>\n",
              "      <td>0.0</td>\n",
              "      <td>0.823529</td>\n",
              "      <td>0.000000</td>\n",
              "      <td>0.166667</td>\n",
              "      <td>0.040609</td>\n",
              "    </tr>\n",
              "    <tr>\n",
              "      <th>1</th>\n",
              "      <td>1</td>\n",
              "      <td>0.615385</td>\n",
              "      <td>0.535433</td>\n",
              "      <td>0.0</td>\n",
              "      <td>0.000000</td>\n",
              "      <td>0.000000</td>\n",
              "      <td>0.000000</td>\n",
              "      <td>0.0</td>\n",
              "      <td>0.235294</td>\n",
              "      <td>0.000000</td>\n",
              "      <td>0.000000</td>\n",
              "      <td>0.624365</td>\n",
              "    </tr>\n",
              "    <tr>\n",
              "      <th>2</th>\n",
              "      <td>2</td>\n",
              "      <td>0.615385</td>\n",
              "      <td>0.681102</td>\n",
              "      <td>0.0</td>\n",
              "      <td>0.000000</td>\n",
              "      <td>0.000000</td>\n",
              "      <td>0.000000</td>\n",
              "      <td>0.0</td>\n",
              "      <td>0.117647</td>\n",
              "      <td>0.000000</td>\n",
              "      <td>0.000000</td>\n",
              "      <td>0.812183</td>\n",
              "    </tr>\n",
              "    <tr>\n",
              "      <th>3</th>\n",
              "      <td>3</td>\n",
              "      <td>0.615385</td>\n",
              "      <td>0.759843</td>\n",
              "      <td>0.0</td>\n",
              "      <td>0.000000</td>\n",
              "      <td>0.000000</td>\n",
              "      <td>0.000000</td>\n",
              "      <td>0.0</td>\n",
              "      <td>0.117647</td>\n",
              "      <td>0.000000</td>\n",
              "      <td>0.000000</td>\n",
              "      <td>0.817259</td>\n",
              "    </tr>\n",
              "    <tr>\n",
              "      <th>4</th>\n",
              "      <td>4</td>\n",
              "      <td>0.615385</td>\n",
              "      <td>0.822835</td>\n",
              "      <td>0.0</td>\n",
              "      <td>0.000000</td>\n",
              "      <td>0.000000</td>\n",
              "      <td>0.000000</td>\n",
              "      <td>0.0</td>\n",
              "      <td>0.117647</td>\n",
              "      <td>0.000000</td>\n",
              "      <td>0.000000</td>\n",
              "      <td>0.639594</td>\n",
              "    </tr>\n",
              "    <tr>\n",
              "      <th>...</th>\n",
              "      <td>...</td>\n",
              "      <td>...</td>\n",
              "      <td>...</td>\n",
              "      <td>...</td>\n",
              "      <td>...</td>\n",
              "      <td>...</td>\n",
              "      <td>...</td>\n",
              "      <td>...</td>\n",
              "      <td>...</td>\n",
              "      <td>...</td>\n",
              "      <td>...</td>\n",
              "      <td>...</td>\n",
              "    </tr>\n",
              "    <tr>\n",
              "      <th>250</th>\n",
              "      <td>250</td>\n",
              "      <td>0.384615</td>\n",
              "      <td>0.877953</td>\n",
              "      <td>0.0</td>\n",
              "      <td>0.000000</td>\n",
              "      <td>0.121622</td>\n",
              "      <td>0.815287</td>\n",
              "      <td>0.2</td>\n",
              "      <td>0.294118</td>\n",
              "      <td>0.777778</td>\n",
              "      <td>0.000000</td>\n",
              "      <td>0.994924</td>\n",
              "    </tr>\n",
              "    <tr>\n",
              "      <th>251</th>\n",
              "      <td>251</td>\n",
              "      <td>0.615385</td>\n",
              "      <td>0.933071</td>\n",
              "      <td>0.0</td>\n",
              "      <td>0.000000</td>\n",
              "      <td>0.000000</td>\n",
              "      <td>0.000000</td>\n",
              "      <td>0.0</td>\n",
              "      <td>0.058824</td>\n",
              "      <td>0.833333</td>\n",
              "      <td>0.000000</td>\n",
              "      <td>0.680203</td>\n",
              "    </tr>\n",
              "    <tr>\n",
              "      <th>252</th>\n",
              "      <td>252</td>\n",
              "      <td>0.615385</td>\n",
              "      <td>0.944882</td>\n",
              "      <td>0.0</td>\n",
              "      <td>0.000000</td>\n",
              "      <td>0.000000</td>\n",
              "      <td>0.000000</td>\n",
              "      <td>0.0</td>\n",
              "      <td>0.058824</td>\n",
              "      <td>0.888889</td>\n",
              "      <td>0.000000</td>\n",
              "      <td>0.634518</td>\n",
              "    </tr>\n",
              "    <tr>\n",
              "      <th>253</th>\n",
              "      <td>253</td>\n",
              "      <td>0.615385</td>\n",
              "      <td>0.960630</td>\n",
              "      <td>0.0</td>\n",
              "      <td>0.000000</td>\n",
              "      <td>0.000000</td>\n",
              "      <td>0.000000</td>\n",
              "      <td>0.0</td>\n",
              "      <td>0.058824</td>\n",
              "      <td>0.944444</td>\n",
              "      <td>0.000000</td>\n",
              "      <td>0.644670</td>\n",
              "    </tr>\n",
              "    <tr>\n",
              "      <th>254</th>\n",
              "      <td>254</td>\n",
              "      <td>0.384615</td>\n",
              "      <td>0.964567</td>\n",
              "      <td>0.0</td>\n",
              "      <td>0.000000</td>\n",
              "      <td>0.716216</td>\n",
              "      <td>0.452229</td>\n",
              "      <td>0.2</td>\n",
              "      <td>0.176471</td>\n",
              "      <td>1.000000</td>\n",
              "      <td>0.000000</td>\n",
              "      <td>0.984772</td>\n",
              "    </tr>\n",
              "  </tbody>\n",
              "</table>\n",
              "<p>255 rows × 12 columns</p>\n",
              "</div>"
            ],
            "text/plain": [
              "     Unnamed: 0      USER       PID  ...     START      TIME   COMMAND\n",
              "0             0  0.615385  0.000000  ...  0.000000  0.166667  0.040609\n",
              "1             1  0.615385  0.535433  ...  0.000000  0.000000  0.624365\n",
              "2             2  0.615385  0.681102  ...  0.000000  0.000000  0.812183\n",
              "3             3  0.615385  0.759843  ...  0.000000  0.000000  0.817259\n",
              "4             4  0.615385  0.822835  ...  0.000000  0.000000  0.639594\n",
              "..          ...       ...       ...  ...       ...       ...       ...\n",
              "250         250  0.384615  0.877953  ...  0.777778  0.000000  0.994924\n",
              "251         251  0.615385  0.933071  ...  0.833333  0.000000  0.680203\n",
              "252         252  0.615385  0.944882  ...  0.888889  0.000000  0.634518\n",
              "253         253  0.615385  0.960630  ...  0.944444  0.000000  0.644670\n",
              "254         254  0.384615  0.964567  ...  1.000000  0.000000  0.984772\n",
              "\n",
              "[255 rows x 12 columns]"
            ]
          },
          "metadata": {
            "tags": []
          },
          "execution_count": 14
        }
      ]
    },
    {
      "cell_type": "code",
      "metadata": {
        "id": "QwLnrYOysCnb",
        "colab_type": "code",
        "colab": {}
      },
      "source": [
        "def update_dataframe(data):\n",
        "  height = data.shape[0]\n",
        "  if(height < MAX_FILE_HEIGHT):\n",
        "    additional_array = np.zeros(shape=(MAX_FILE_HEIGHT - height, FILE_WIDTH))\n",
        "\n",
        "    additional_data = pd.DataFrame(additional_array, columns=file_headers)\n",
        "\n",
        "    data = data.append(additional_data)\n",
        "  \n",
        "  \n",
        "  return data"
      ],
      "execution_count": 0,
      "outputs": []
    },
    {
      "cell_type": "code",
      "metadata": {
        "id": "0w7Kvp53h8Hw",
        "colab_type": "code",
        "colab": {}
      },
      "source": [
        "def tf_data_generator(file_list, batch_size = 20):\n",
        "    i = 0\n",
        "    while True:\n",
        "        if i*batch_size >= len(file_list):  \n",
        "            i = 0\n",
        "            np.random.shuffle(file_list)\n",
        "        else:\n",
        "            file_chunk = file_list[i*batch_size:(i+1)*batch_size] \n",
        "            data = []\n",
        "            labels = []\n",
        "            label_classes = tf.constant([\"clean\", \"virus\"]) # This line has changed.\n",
        "            \n",
        "            for file in file_chunk:\n",
        "                temp = pd.read_csv(open(file,'r'))\n",
        "\n",
        "                del temp[\"Unnamed: 0\"]\n",
        "           \n",
        "                #Update Shape of data frame if less than 265      \n",
        "                temp = update_dataframe(temp)\n",
        "              \n",
        "                data.append(temp.values.reshape(MAX_FILE_HEIGHT,FILE_WIDTH,NUMBER_OF_CHANNELS)) \n",
        "\n",
        "                format_file = str(file, 'utf-8', 'ignore') #Change the format of String to proper string in case it changes to byte string\n",
        "\n",
        "                #Check the file name to create the label for the corresponding csv file\n",
        "                if format_file[8] == 'c':\n",
        "                  labels.append(0)\n",
        "                else:\n",
        "                  labels.append(1)\n",
        "                  \n",
        "            data = np.asarray(data).reshape(-1,MAX_FILE_HEIGHT,FILE_WIDTH,NUMBER_OF_CHANNELS)\n",
        "            labels = np.asarray(labels)\n",
        "            yield data, labels\n",
        "            i = i + 1"
      ],
      "execution_count": 0,
      "outputs": []
    },
    {
      "cell_type": "code",
      "metadata": {
        "id": "M_3VzgSol5-b",
        "colab_type": "code",
        "colab": {}
      },
      "source": [
        "batch_size = 15\n",
        "dataset = tf.data.Dataset.from_generator(tf_data_generator,args= [files, batch_size],output_types = (tf.float32, tf.float32),\n",
        "                                                output_shapes = ((None,MAX_FILE_HEIGHT,FILE_WIDTH,NUMBER_OF_CHANNELS),(None,)))"
      ],
      "execution_count": 0,
      "outputs": []
    },
    {
      "cell_type": "code",
      "metadata": {
        "id": "-okUlqOYqrvZ",
        "colab_type": "code",
        "outputId": "adc6b709-ffd6-44ae-f6f6-d46c71a35faa",
        "colab": {
          "base_uri": "https://localhost:8080/",
          "height": 434
        }
      },
      "source": [
        "num = 0\n",
        "for data, labels in dataset:\n",
        "    print(data.shape, labels.shape)\n",
        "    print(labels)\n",
        "    print()\n",
        "    num = num + 1\n",
        "    if num > 7: break"
      ],
      "execution_count": 0,
      "outputs": [
        {
          "output_type": "stream",
          "text": [
            "(15, 285, 11, 1) (15,)\n",
            "tf.Tensor([0. 0. 1. 0. 1. 0. 0. 1. 1. 1. 0. 1. 0. 0. 1.], shape=(15,), dtype=float32)\n",
            "\n",
            "(15, 285, 11, 1) (15,)\n",
            "tf.Tensor([1. 0. 0. 0. 0. 1. 0. 0. 0. 1. 1. 1. 1. 0. 1.], shape=(15,), dtype=float32)\n",
            "\n",
            "(15, 285, 11, 1) (15,)\n",
            "tf.Tensor([1. 0. 0. 1. 1. 1. 0. 1. 0. 0. 1. 1. 0. 0. 1.], shape=(15,), dtype=float32)\n",
            "\n",
            "(15, 285, 11, 1) (15,)\n",
            "tf.Tensor([0. 1. 1. 1. 1. 0. 0. 1. 0. 0. 0. 1. 0. 0. 0.], shape=(15,), dtype=float32)\n",
            "\n",
            "(15, 285, 11, 1) (15,)\n",
            "tf.Tensor([0. 0. 1. 0. 1. 0. 1. 0. 0. 0. 1. 1. 1. 1. 0.], shape=(15,), dtype=float32)\n",
            "\n",
            "(15, 285, 11, 1) (15,)\n",
            "tf.Tensor([0. 1. 0. 1. 1. 0. 0. 1. 1. 1. 0. 1. 1. 0. 0.], shape=(15,), dtype=float32)\n",
            "\n",
            "(15, 285, 11, 1) (15,)\n",
            "tf.Tensor([1. 0. 0. 1. 0. 1. 0. 0. 1. 1. 1. 0. 1. 0. 0.], shape=(15,), dtype=float32)\n",
            "\n",
            "(15, 285, 11, 1) (15,)\n",
            "tf.Tensor([1. 1. 0. 0. 1. 1. 0. 1. 1. 0. 0. 1. 0. 1. 1.], shape=(15,), dtype=float32)\n",
            "\n"
          ],
          "name": "stdout"
        }
      ]
    },
    {
      "cell_type": "markdown",
      "metadata": {
        "id": "3UQ4F56_NZ7v",
        "colab_type": "text"
      },
      "source": [
        "Building data pipeline and training CNN model"
      ]
    },
    {
      "cell_type": "code",
      "metadata": {
        "id": "U3GG0h_GEua5",
        "colab_type": "code",
        "colab": {}
      },
      "source": [
        "from sklearn.model_selection import train_test_split"
      ],
      "execution_count": 0,
      "outputs": []
    },
    {
      "cell_type": "code",
      "metadata": {
        "id": "wkzSQVmvNO_X",
        "colab_type": "code",
        "colab": {}
      },
      "source": [
        "train_file_names, test_file_names = train_test_split(files, test_size = 0.5, random_state = 321)"
      ],
      "execution_count": 0,
      "outputs": []
    },
    {
      "cell_type": "code",
      "metadata": {
        "id": "q5Jhx7pcQqS7",
        "colab_type": "code",
        "colab": {}
      },
      "source": [
        "train_file_names, validation_file_names = train_test_split(train_file_names, test_size = 0.40, random_state = 232)"
      ],
      "execution_count": 0,
      "outputs": []
    },
    {
      "cell_type": "code",
      "metadata": {
        "id": "yFHlDSPARCkA",
        "colab_type": "code",
        "outputId": "0feef2db-f50f-4b38-853e-638961f6b3a6",
        "colab": {
          "base_uri": "https://localhost:8080/",
          "height": 69
        }
      },
      "source": [
        "print(\"Number of train_files:\" ,len(train_file_names))\n",
        "print(\"Number of validation_files:\" ,len(validation_file_names))\n",
        "print(\"Number of test_files:\" ,len(test_file_names))"
      ],
      "execution_count": 0,
      "outputs": [
        {
          "output_type": "stream",
          "text": [
            "Number of train_files: 1072\n",
            "Number of validation_files: 716\n",
            "Number of test_files: 1788\n"
          ],
          "name": "stdout"
        }
      ]
    },
    {
      "cell_type": "code",
      "metadata": {
        "id": "Y6n52E6YTIKd",
        "colab_type": "code",
        "colab": {}
      },
      "source": [
        "batch_size = 10\n",
        "train_dataset = tf.data.Dataset.from_generator(tf_data_generator, args = [train_file_names, batch_size], \n",
        "                                              output_shapes = ((None,MAX_FILE_HEIGHT,FILE_WIDTH,NUMBER_OF_CHANNELS),(None,)),\n",
        "                                              output_types = (tf.float32, tf.float32))\n",
        "\n",
        "validation_dataset = tf.data.Dataset.from_generator(tf_data_generator, args = [validation_file_names, batch_size],\n",
        "                                                   output_shapes = ((None,MAX_FILE_HEIGHT,FILE_WIDTH,NUMBER_OF_CHANNELS),(None,)),\n",
        "                                                   output_types = (tf.float32, tf.float32))\n",
        "\n",
        "test_dataset = tf.data.Dataset.from_generator(tf_data_generator, args = [test_file_names, batch_size],\n",
        "                                             output_shapes = ((None,MAX_FILE_HEIGHT,FILE_WIDTH,NUMBER_OF_CHANNELS),(None,)),\n",
        "                                             output_types = (tf.float32, tf.float32))"
      ],
      "execution_count": 0,
      "outputs": []
    },
    {
      "cell_type": "markdown",
      "metadata": {
        "id": "u7maFa4MVTv_",
        "colab_type": "text"
      },
      "source": [
        "Creating the model"
      ]
    },
    {
      "cell_type": "code",
      "metadata": {
        "id": "kRSMfC5IVZhY",
        "colab_type": "code",
        "colab": {}
      },
      "source": [
        "from tensorflow.keras import layers"
      ],
      "execution_count": 0,
      "outputs": []
    },
    {
      "cell_type": "code",
      "metadata": {
        "id": "ZSwZy9eAVf0z",
        "colab_type": "code",
        "outputId": "db71472a-9564-4e3c-926e-13b3a93d8630",
        "colab": {
          "base_uri": "https://localhost:8080/",
          "height": 399
        }
      },
      "source": [
        "model = tf.keras.Sequential([\n",
        "    layers.Conv2D(16, 3, activation = \"relu\", input_shape = (MAX_FILE_HEIGHT,FILE_WIDTH,NUMBER_OF_CHANNELS)),\n",
        "    layers.MaxPool2D(2),\n",
        "    layers.Conv2D(32, 3, activation = \"relu\"),\n",
        "    layers.MaxPool2D(2),\n",
        "    layers.Flatten(),\n",
        "    layers.Dense(16, activation=\"relu\"),\n",
        "    layers.Dense(1)\n",
        "])\n",
        "model.summary()"
      ],
      "execution_count": 0,
      "outputs": [
        {
          "output_type": "stream",
          "text": [
            "Model: \"sequential_5\"\n",
            "_________________________________________________________________\n",
            "Layer (type)                 Output Shape              Param #   \n",
            "=================================================================\n",
            "conv2d_10 (Conv2D)           (None, 283, 9, 16)        160       \n",
            "_________________________________________________________________\n",
            "max_pooling2d_10 (MaxPooling (None, 141, 4, 16)        0         \n",
            "_________________________________________________________________\n",
            "conv2d_11 (Conv2D)           (None, 139, 2, 32)        4640      \n",
            "_________________________________________________________________\n",
            "max_pooling2d_11 (MaxPooling (None, 69, 1, 32)         0         \n",
            "_________________________________________________________________\n",
            "flatten_5 (Flatten)          (None, 2208)              0         \n",
            "_________________________________________________________________\n",
            "dense_8 (Dense)              (None, 16)                35344     \n",
            "_________________________________________________________________\n",
            "dense_9 (Dense)              (None, 1)                 17        \n",
            "=================================================================\n",
            "Total params: 40,161\n",
            "Trainable params: 40,161\n",
            "Non-trainable params: 0\n",
            "_________________________________________________________________\n"
          ],
          "name": "stdout"
        }
      ]
    },
    {
      "cell_type": "code",
      "metadata": {
        "id": "aHIU2OUFB9tL",
        "colab_type": "code",
        "colab": {}
      },
      "source": [
        "opt = tf.keras.optimizers.SGD(learning_rate=1, momentum=0.9) "
      ],
      "execution_count": 0,
      "outputs": []
    },
    {
      "cell_type": "markdown",
      "metadata": {
        "id": "m9Akn10dVzeF",
        "colab_type": "text"
      },
      "source": [
        "Compile the model"
      ]
    },
    {
      "cell_type": "code",
      "metadata": {
        "id": "sQ-LgA_mV0rp",
        "colab_type": "code",
        "colab": {}
      },
      "source": [
        "model.compile(optimizer='adam',\n",
        "              loss=tf.keras.losses.BinaryCrossentropy(from_logits=True),\n",
        "              metrics=['accuracy'])\n"
      ],
      "execution_count": 0,
      "outputs": []
    },
    {
      "cell_type": "code",
      "metadata": {
        "id": "bPbKHxsmWN2V",
        "colab_type": "code",
        "colab": {}
      },
      "source": [
        "steps_per_epoch = 108\n",
        "validation_steps = 72\n",
        "steps = 10\n",
        "epochs = 10"
      ],
      "execution_count": 0,
      "outputs": []
    },
    {
      "cell_type": "code",
      "metadata": {
        "id": "W_HWscjXW7eU",
        "colab_type": "code",
        "outputId": "aa6c7b75-8744-45d9-bd62-17c464151f6a",
        "colab": {
          "base_uri": "https://localhost:8080/",
          "height": 364
        }
      },
      "source": [
        "history = model.fit(train_dataset, validation_data = validation_dataset, steps_per_epoch = steps_per_epoch,\n",
        "         validation_steps = validation_steps, epochs = epochs)"
      ],
      "execution_count": 0,
      "outputs": [
        {
          "output_type": "stream",
          "text": [
            "Epoch 1/10\n",
            "108/108 [==============================] - 10s 91ms/step - loss: 0.1273 - accuracy: 0.9412 - val_loss: 0.0013 - val_accuracy: 1.0000\n",
            "Epoch 2/10\n",
            "108/108 [==============================] - 10s 91ms/step - loss: 6.5745e-04 - accuracy: 1.0000 - val_loss: 2.6803e-04 - val_accuracy: 1.0000\n",
            "Epoch 3/10\n",
            "108/108 [==============================] - 10s 91ms/step - loss: 1.7275e-04 - accuracy: 1.0000 - val_loss: 9.5436e-05 - val_accuracy: 1.0000\n",
            "Epoch 4/10\n",
            "108/108 [==============================] - 10s 89ms/step - loss: 6.9214e-05 - accuracy: 1.0000 - val_loss: 4.6241e-05 - val_accuracy: 1.0000\n",
            "Epoch 5/10\n",
            "108/108 [==============================] - 10s 90ms/step - loss: 3.6359e-05 - accuracy: 1.0000 - val_loss: 2.6345e-05 - val_accuracy: 1.0000\n",
            "Epoch 6/10\n",
            "108/108 [==============================] - 10s 91ms/step - loss: 2.1907e-05 - accuracy: 1.0000 - val_loss: 1.7032e-05 - val_accuracy: 1.0000\n",
            "Epoch 7/10\n",
            "108/108 [==============================] - 10s 92ms/step - loss: 1.4529e-05 - accuracy: 1.0000 - val_loss: 1.1599e-05 - val_accuracy: 1.0000\n",
            "Epoch 8/10\n",
            "108/108 [==============================] - 10s 90ms/step - loss: 1.0284e-05 - accuracy: 1.0000 - val_loss: 8.7908e-06 - val_accuracy: 1.0000\n",
            "Epoch 9/10\n",
            "108/108 [==============================] - 10s 90ms/step - loss: 7.6403e-06 - accuracy: 1.0000 - val_loss: 6.4777e-06 - val_accuracy: 1.0000\n",
            "Epoch 10/10\n",
            "108/108 [==============================] - 10s 90ms/step - loss: 5.9388e-06 - accuracy: 1.0000 - val_loss: 5.0591e-06 - val_accuracy: 1.0000\n"
          ],
          "name": "stdout"
        }
      ]
    },
    {
      "cell_type": "code",
      "metadata": {
        "id": "xNTnEZ4gcAA1",
        "colab_type": "code",
        "outputId": "3b1c7062-9d86-4d8b-eafd-a88c2800d3e5",
        "colab": {
          "base_uri": "https://localhost:8080/",
          "height": 34
        }
      },
      "source": [
        "test_loss, test_accuracy = model.evaluate(test_dataset, steps = 1)"
      ],
      "execution_count": 0,
      "outputs": [
        {
          "output_type": "stream",
          "text": [
            "1/1 [==============================] - 0s 1ms/step - loss: 4.1774e-06 - accuracy: 1.0000\n"
          ],
          "name": "stdout"
        }
      ]
    },
    {
      "cell_type": "markdown",
      "metadata": {
        "id": "KHrgU7ix83kg",
        "colab_type": "text"
      },
      "source": [
        "**Visualizing The Result**"
      ]
    },
    {
      "cell_type": "code",
      "metadata": {
        "id": "uVyfLWTQiAyd",
        "colab_type": "code",
        "outputId": "d68cfb14-b532-411b-973c-591e5e839889",
        "colab": {
          "base_uri": "https://localhost:8080/",
          "height": 499
        }
      },
      "source": [
        " import matplotlib.pyplot as plt\n",
        "\n",
        "acc = history.history['accuracy']\n",
        "val_acc = history.history['val_accuracy']\n",
        "\n",
        "loss=history.history['loss']\n",
        "val_loss=history.history['val_loss']\n",
        "\n",
        "epochs_range = range(epochs)\n",
        "\n",
        "plt.figure(figsize=(8, 8))\n",
        "plt.subplot(1, 2, 1)\n",
        "plt.plot(epochs_range, acc, label='Training Accuracy')\n",
        "plt.plot(epochs_range, val_acc, label='Validation Accuracy')\n",
        "plt.legend(loc='lower right')\n",
        "plt.title('Training and Validation Accuracy')\n",
        "\n",
        "plt.subplot(1, 2, 2)\n",
        "plt.plot(epochs_range, loss, label='Training Loss')\n",
        "plt.plot(epochs_range, val_loss, label='Validation Loss')\n",
        "plt.legend(loc='upper right')\n",
        "plt.title('Training and Validation Loss')\n",
        "plt.show()\n"
      ],
      "execution_count": 0,
      "outputs": [
        {
          "output_type": "display_data",
          "data": {
            "image/png": "[encoded data removed]",
            "text/plain": [
              "<Figure size 576x576 with 2 Axes>"
            ]
          },
          "metadata": {
            "tags": [],
            "needs_background": "light"
          }
        }
      ]
    },
    {
      "cell_type": "code",
      "metadata": {
        "id": "r_jkwTon88QP",
        "colab_type": "code",
        "colab": {}
      },
      "source": [
        ""
      ],
      "execution_count": 0,
      "outputs": []
    }
  ]
}